{
 "cells": [
  {
   "cell_type": "code",
   "execution_count": 6,
   "id": "05f7cc8a",
   "metadata": {},
   "outputs": [
    {
     "name": "stdout",
     "output_type": "stream",
     "text": [
      "Enter the Problem: CROSS + ROADS = DANGER\n",
      "CROSS + ROADS = DANGER\n",
      "96233 + 62513 = 158746 (mapping: {'r': 6, 's': 3, 'o': 2, 'e': 4, 'd': 1, 'c': 9, 'g': 7, 'a': 5, 'n': 8})\n"
     ]
    }
   ],
   "source": [
    "import itertools \n",
    "\n",
    "def get_value(word, substitution): \n",
    "    s = 0 \n",
    "    factor = 1 \n",
    "    for letter in reversed(word): \n",
    "        s += factor * substitution[letter] \n",
    "        factor *= 10 \n",
    "    return s \n",
    "\n",
    "def solve2(equation): \n",
    "    left, right = equation.lower().replace(' ', '').split('=') \n",
    "    left = left.split('+') \n",
    "    letters = set(right) \n",
    "    for word in left: \n",
    "        for letter in word: \n",
    "            letters.add(letter) \n",
    "    letters = list(letters) \n",
    "\n",
    "    digits = range(10) \n",
    "    for perm in itertools.permutations(digits, len(letters)): \n",
    "        sol = dict(zip(letters, perm)) \n",
    "\n",
    "        if sum(get_value(word, sol) for word in left) == get_value(right, sol): \n",
    "            print(' + '.join(str(get_value(word, sol)) for word in left) + \" = {} (mapping: {})\".format(get_value(right, sol), sol)) \n",
    "             \n",
    "\n",
    "a=input(\"Enter the Problem: \") \n",
    "print(a) \n",
    "solve2(a) \n"
   ]
  }
 ],
 "metadata": {
  "kernelspec": {
   "display_name": "Python 3 (ipykernel)",
   "language": "python",
   "name": "python3"
  },
  "language_info": {
   "codemirror_mode": {
    "name": "ipython",
    "version": 3
   },
   "file_extension": ".py",
   "mimetype": "text/x-python",
   "name": "python",
   "nbconvert_exporter": "python",
   "pygments_lexer": "ipython3",
   "version": "3.9.7"
  }
 },
 "nbformat": 4,
 "nbformat_minor": 5
}
